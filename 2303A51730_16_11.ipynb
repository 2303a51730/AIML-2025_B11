{
  "nbformat": 4,
  "nbformat_minor": 0,
  "metadata": {
    "colab": {
      "provenance": [],
      "authorship_tag": "ABX9TyPKrLbK+LJoCrft17BcwIdT",
      "include_colab_link": true
    },
    "kernelspec": {
      "name": "python3",
      "display_name": "Python 3"
    },
    "language_info": {
      "name": "python"
    }
  },
  "cells": [
    {
      "cell_type": "markdown",
      "metadata": {
        "id": "view-in-github",
        "colab_type": "text"
      },
      "source": [
        "<a href=\"https://colab.research.google.com/github/2303a51730/AIML-2025_B11/blob/main/2303A51730_16_11.ipynb\" target=\"_parent\"><img src=\"https://colab.research.google.com/assets/colab-badge.svg\" alt=\"Open In Colab\"/></a>"
      ]
    },
    {
      "cell_type": "code",
      "source": [
        "import pandas as pd\n",
        "import numpy as np\n",
        "from nltk.sentiment.vader import SentimentIntensityAnalyzer\n",
        "import nltk"
      ],
      "metadata": {
        "id": "ZZn3BgZaIjDL"
      },
      "execution_count": 23,
      "outputs": []
    },
    {
      "cell_type": "code",
      "source": [
        "# Sample data for travel destinations, categories, review texts, and ratings\n",
        "data = {\n",
        "    'destination': ['Tokyo', 'Kyoto', 'Seoul', 'Beijing', 'Taipei', 'Hokkaido', 'Osaka', 'Jeju Island', 'Hong Kong', 'Shanghai'],\n",
        "        'category': ['Urban', 'Historical', 'Urban', 'Historical', 'Nature', 'Nature', 'Urban', 'Beach', 'Urban', 'Urban'],\n",
        "            'review_text': [\n",
        "                    'Great place to explore with temples and city life.',\n",
        "                            'Beautiful historical sites and temples.',\n",
        "                                    'Modern city with lots of entertainment.',\n",
        "                                            'Rich cultural heritage and historical monuments.',\n",
        "                                                    'Amazing nature with lots of hiking and scenery.',\n",
        "                                                            'Cold but scenic with beautiful mountains.',\n",
        "                                                                    'Vibrant city with plenty of nightlife and shopping.',\n",
        "                                                                            'A great beach destination with resorts.',\n",
        "                                                                                    'Bustling city, a must-visit for shopping and food.',\n",
        "                                                                                            'Futuristic city with incredible architecture.'\n",
        "                                                                                                ],\n",
        "                                                                                                    'rating': [5, 4, 4, 5, 5, 4, 4, 5, 4, 5]\n",
        "                                                                                                    }\n",
        ""
      ],
      "metadata": {
        "id": "Rbj0HSKCIymq"
      },
      "execution_count": 24,
      "outputs": []
    },
    {
      "cell_type": "code",
      "source": [
        "# Convert the sample data into a pandas DataFrame\n",
        "df = pd.DataFrame(data)"
      ],
      "metadata": {
        "id": "zjVBlpA8I4x5"
      },
      "execution_count": 25,
      "outputs": []
    },
    {
      "cell_type": "code",
      "source": [
        "# 1. Identify the top 5 travel destinations in East Asia (based on the number of reviews)\n",
        "top_destinations = df['destination'].value_counts().head(5)\n",
        "print(f\"Top 5 Travel Destinations:\\n{top_destinations}\\n\")"
      ],
      "metadata": {
        "colab": {
          "base_uri": "https://localhost:8080/"
        },
        "id": "sYIZjLH5I8Zh",
        "outputId": "023853b7-74a1-4d45-8422-1a72cf25b92b"
      },
      "execution_count": 26,
      "outputs": [
        {
          "output_type": "stream",
          "name": "stdout",
          "text": [
            "Top 5 Travel Destinations:\n",
            "destination\n",
            "Tokyo      1\n",
            "Kyoto      1\n",
            "Seoul      1\n",
            "Beijing    1\n",
            "Taipei     1\n",
            "Name: count, dtype: int64\n",
            "\n"
          ]
        }
      ]
    },
    {
      "cell_type": "code",
      "source": [
        "# 2. Name the category most liked by travelers (based on average rating)\n",
        "category_ratings = df.groupby('category')['rating'].mean()\n",
        "most_liked_category = category_ratings.idxmax()\n",
        "print(f\"The most liked category: {most_liked_category}\\n\")"
      ],
      "metadata": {
        "colab": {
          "base_uri": "https://localhost:8080/"
        },
        "id": "SY9RsMgpJBZt",
        "outputId": "98fbad5f-177c-45c2-c3aa-58bff9ecbc00"
      },
      "execution_count": 27,
      "outputs": [
        {
          "output_type": "stream",
          "name": "stdout",
          "text": [
            "The most liked category: Beach\n",
            "\n"
          ]
        }
      ]
    },
    {
      "cell_type": "code",
      "source": [
        "# 3. Identify the max and min counts of the most liked category of travelers (based on ratings)\n",
        "most_liked_category_reviews = df[df['category'] == most_liked_category]\n",
        "max_reviews = most_liked_category_reviews['rating'].max()\n",
        "min_reviews = most_liked_category_reviews['rating'].min()\n",
        "print(f\"Max and Min ratings for the most liked category ({most_liked_category}): Max={max_reviews}, Min={min_reviews}\\n\")\n"
      ],
      "metadata": {
        "colab": {
          "base_uri": "https://localhost:8080/"
        },
        "id": "7EwIktGzJEts",
        "outputId": "01b1eaf6-131e-4db2-9584-8ef37079eb7e"
      },
      "execution_count": 28,
      "outputs": [
        {
          "output_type": "stream",
          "name": "stdout",
          "text": [
            "Max and Min ratings for the most liked category (Beach): Max=5, Min=5\n",
            "\n"
          ]
        }
      ]
    },
    {
      "cell_type": "code",
      "source": [
        "# 4. Predict the count of travelers who liked religious institutions the most\n",
        "# Assuming 'Religious' or 'Historical' categories are related to religious institutions\n",
        "religious_category_reviews = df[df['category'].str.contains('Religious|Historical', case=False)]\n",
        "religious_likes_count = len(religious_category_reviews)\n",
        "print(f\"Predicted count of travelers who liked religious institutions the most: {religious_likes_count}\\n\")"
      ],
      "metadata": {
        "colab": {
          "base_uri": "https://localhost:8080/"
        },
        "id": "l-47W603JHrg",
        "outputId": "fb0458e8-5560-424c-bd17-0a1fef875f2a"
      },
      "execution_count": 29,
      "outputs": [
        {
          "output_type": "stream",
          "name": "stdout",
          "text": [
            "Predicted count of travelers who liked religious institutions the most: 2\n",
            "\n"
          ]
        }
      ]
    },
    {
      "cell_type": "code",
      "source": [
        "\n",
        "# 5. Identify the travelers who liked the beaches and picnic spots the most\n",
        "# Filtering reviews for 'Beach' or 'Picnic' categories\n",
        "beach_or_picnic_reviews = df[df['category'].str.contains('Beach|Picnic', case=False)]\n",
        "beach_or_picnic_likes = beach_or_picnic_reviews[['destination', 'review_text']]\n",
        "print(\"Travelers who liked beaches and picnic spots the most:\")\n",
        "print(beach_or_picnic_likes, \"\\n\")\n"
      ],
      "metadata": {
        "colab": {
          "base_uri": "https://localhost:8080/"
        },
        "id": "s0dDSQKFJOLl",
        "outputId": "f846e6c8-8833-43b6-d88e-3ba28f7741a6"
      },
      "execution_count": 30,
      "outputs": [
        {
          "output_type": "stream",
          "name": "stdout",
          "text": [
            "Travelers who liked beaches and picnic spots the most:\n",
            "   destination                              review_text\n",
            "7  Jeju Island  A great beach destination with resorts. \n",
            "\n"
          ]
        }
      ]
    },
    {
      "cell_type": "code",
      "source": [
        "\n",
        "# 6. Sentiment Analysis for each review (to determine positive or negative sentiment)\n",
        "# Download the VADER lexicon for sentiment analysis (if not already installed)\n",
        "nltk.download('vader_lexicon')"
      ],
      "metadata": {
        "colab": {
          "base_uri": "https://localhost:8080/"
        },
        "id": "DsnpOJP4JSdJ",
        "outputId": "ffcb3846-d269-41f9-b498-d11e97c4a69a"
      },
      "execution_count": 31,
      "outputs": [
        {
          "output_type": "stream",
          "name": "stderr",
          "text": [
            "[nltk_data] Downloading package vader_lexicon to /root/nltk_data...\n"
          ]
        },
        {
          "output_type": "execute_result",
          "data": {
            "text/plain": [
              "True"
            ]
          },
          "metadata": {},
          "execution_count": 31
        }
      ]
    },
    {
      "cell_type": "code",
      "source": [
        "\n",
        "# Initialize the SentimentIntensityAnalyzer\n",
        "sia = SentimentIntensityAnalyzer()"
      ],
      "metadata": {
        "id": "Cy1jOOKIJWVg"
      },
      "execution_count": 32,
      "outputs": []
    },
    {
      "cell_type": "code",
      "source": [
        "\n",
        "# Adding sentiment scores for review texts\n",
        "df['sentiment_score'] = df['review_text'].apply(lambda x: sia.polarity_scores(x)['compound'])\n",
        "\n",
        "print(\"Sentiment Scores for each review:\")\n",
        "print(df[['destination', 'review_text', 'sentiment_score']])"
      ],
      "metadata": {
        "colab": {
          "base_uri": "https://localhost:8080/"
        },
        "id": "0ohel2ZDJZiR",
        "outputId": "642aa557-c1ff-484e-87fe-b49d63a0454e"
      },
      "execution_count": 33,
      "outputs": [
        {
          "output_type": "stream",
          "name": "stdout",
          "text": [
            "Sentiment Scores for each review:\n",
            "   destination                                        review_text  sentiment_score\n",
            "0        Tokyo  Great place to explore with temples and city l...           0.6249\n",
            "1        Kyoto            Beautiful historical sites and temples.           0.5994\n",
            "2        Seoul            Modern city with lots of entertainment.           0.4215\n",
            "3      Beijing   Rich cultural heritage and historical monuments.           0.5574\n",
            "4       Taipei    Amazing nature with lots of hiking and scenery.           0.5859\n",
            "5     Hokkaido          Cold but scenic with beautiful mountains.           0.7469\n",
            "6        Osaka  Vibrant city with plenty of nightlife and shop...           0.5267\n",
            "7  Jeju Island            A great beach destination with resorts.           0.6249\n",
            "8    Hong Kong  Bustling city, a must-visit for shopping and f...           0.0000\n",
            "9     Shanghai      Futuristic city with incredible architecture.           0.0000\n"
          ]
        }
      ]
    }
  ]
}